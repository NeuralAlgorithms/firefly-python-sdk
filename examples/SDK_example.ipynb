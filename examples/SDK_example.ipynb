{
  "nbformat": 4,
  "nbformat_minor": 0,
  "metadata": {
    "kernelspec": {
      "display_name": "Python 3",
      "language": "python",
      "name": "python3"
    },
    "language_info": {
      "codemirror_mode": {
        "name": "ipython",
        "version": 3
      },
      "file_extension": ".py",
      "mimetype": "text/x-python",
      "name": "python",
      "nbconvert_exporter": "python",
      "pygments_lexer": "ipython3",
      "version": "3.7.3"
    },
    "colab": {
      "name": "SDK_example_new.ipynb",
      "provenance": [],
      "collapsed_sections": []
    }
  },
  "cells": [
    {
      "cell_type": "code",
      "metadata": {
        "id": "2CTtTiwbMJ6m",
        "colab_type": "code",
        "outputId": "2c2eedc8-302e-4c96-80e7-648ec2683b77",
        "colab": {
          "base_uri": "https://localhost:8080/",
          "height": 34
        }
      },
      "source": [
        "from google.colab import drive\n",
        "drive.mount('/content/drive', force_remount=True)\n",
        "!pip3 install --quiet -U fireflyai\n"
      ],
      "execution_count": 6,
      "outputs": [
        {
          "output_type": "stream",
          "text": [
            "Mounted at /content/drive\n"
          ],
          "name": "stdout"
        }
      ]
    },
    {
      "cell_type": "code",
      "metadata": {
        "id": "QOmx7OoRMLoY",
        "colab_type": "code",
        "outputId": "aaa29559-25bf-4c08-faf1-2376c7415adf",
        "colab": {
          "base_uri": "https://localhost:8080/",
          "height": 34
        }
      },
      "source": [
        "#@title #Import firefly.ai library {display-mode: \"form\"}\n",
        "\n",
        "import fireflyai as firefly\n",
        "from fireflyai.version import __version__\n",
        "print(\"Firefly SDK version {}\".format(__version__))\n",
        "\n",
        "import pandas as pd\n",
        "import time, os, collections, getpass, pprint, urllib3\n",
        "\n",
        "from matplotlib import pyplot as plt\n",
        "import numpy as np\n",
        "import seaborn as sn\n"
      ],
      "execution_count": 7,
      "outputs": [
        {
          "output_type": "stream",
          "text": [
            "Firefly SDK version 0.0.30\n"
          ],
          "name": "stdout"
        }
      ]
    },
    {
      "cell_type": "code",
      "metadata": {
        "id": "d42jQLAvMJ6v",
        "colab_type": "code",
        "cellView": "both",
        "outputId": "e42485b3-2509-49ac-dd39-c4e74741f47d",
        "colab": {
          "base_uri": "https://localhost:8080/",
          "height": 68
        }
      },
      "source": [
        "#@title #Login to Firefly platform \n",
        "#@markdown * Using authenticate(username, password)\n",
        "\n",
        "USER = input(\"User:\")\n",
        "PASSWORD = getpass.getpass(\"Password:\")\n",
        "try:\n",
        "    firefly.authenticate(username=USER, password=PASSWORD)\n",
        "    print(\"{} - Login successful\".format(USER))\n",
        "except Exception as e:\n",
        "    print(e)"
      ],
      "execution_count": 8,
      "outputs": [
        {
          "output_type": "stream",
          "text": [
            "User:yuv\n",
            "Password:··········\n",
            "yuv - Login successful\n"
          ],
          "name": "stdout"
        }
      ]
    },
    {
      "cell_type": "code",
      "metadata": {
        "scrolled": true,
        "id": "5oeMl8YvMJ68",
        "colab_type": "code",
        "cellView": "both",
        "colab": {}
      },
      "source": [
        "#@title #Example classification dataset UCI Car.\n",
        "#@markdown * Example of full loop using dataset \"UCI_Car\" \n",
        "#@markdown * It is a classification task (multi-class) \n",
        "\n",
        "PATH=\"/content/drive/My Drive/Neural_shared/SDK/\"\n",
        "\n",
        "data_name='car_sdk_demo'\n",
        "\n",
        "df = pd.read_csv(PATH+data_name+\".csv\")"
      ],
      "execution_count": 0,
      "outputs": []
    },
    {
      "cell_type": "markdown",
      "metadata": {
        "id": "0eI99rzJMJ7K",
        "colab_type": "text"
      },
      "source": [
        ""
      ]
    },
    {
      "cell_type": "code",
      "metadata": {
        "id": "fp5u8jNyMJ7L",
        "colab_type": "code",
        "outputId": "f4b3aa25-4a66-40c5-8bc3-039f4369ce72",
        "cellView": "both",
        "colab": {
          "base_uri": "https://localhost:8080/",
          "height": 51
        }
      },
      "source": [
        "#@title #Uploading a Data source\n",
        "#@markdown * Use firefly.Datasource.create_from_dataframe to upload a Dataframe\n",
        "#@markdown * Use firefly.Datasource.create to upload a CSV file\n",
        "\n",
        "#@markdown * wait=True ----> wait until the upload and analysis of the data is completed. \n",
        "#@markdown * wait=False -----> return immediately \n",
        "\n",
        "try:\n",
        "    source_id = firefly.Datasource.create_from_dataframe(df=df, \n",
        "                                   data_source_name=data_name, \n",
        "                                   wait=True, skip_if_exists=True)['id']\n",
        "    print (\"\\nYour Source ID for {} is: {}\".format(data_name, source_id))\n",
        "except Exception as e:\n",
        "    print(e)\n"
      ],
      "execution_count": 10,
      "outputs": [
        {
          "output_type": "stream",
          "text": [
            "\n",
            "Your Source ID for car_sdk_demo is: 4348\n"
          ],
          "name": "stdout"
        }
      ]
    },
    {
      "cell_type": "code",
      "metadata": {
        "id": "nE2-loZPMJ7U",
        "colab_type": "code",
        "outputId": "fe8a7ea2-a14a-4af5-a16f-c0c8f21c1af8",
        "cellView": "both",
        "colab": {
          "base_uri": "https://localhost:8080/",
          "height": 359
        }
      },
      "source": [
        "#@title #Getting the list of uploaded data sources\n",
        "#@markdown * Use firefly.list_datasources() \n",
        "\n",
        "list_sources = firefly.Datasource.list()\n",
        "sources = pd.DataFrame(list_sources['hits'])\n",
        "\n",
        "sources[[ 'creation_date', 'data_size',  'id',\n",
        "        'name', 'row_count', 'state',]].head(10)"
      ],
      "execution_count": 11,
      "outputs": [
        {
          "output_type": "execute_result",
          "data": {
            "text/html": [
              "<div>\n",
              "<style scoped>\n",
              "    .dataframe tbody tr th:only-of-type {\n",
              "        vertical-align: middle;\n",
              "    }\n",
              "\n",
              "    .dataframe tbody tr th {\n",
              "        vertical-align: top;\n",
              "    }\n",
              "\n",
              "    .dataframe thead th {\n",
              "        text-align: right;\n",
              "    }\n",
              "</style>\n",
              "<table border=\"1\" class=\"dataframe\">\n",
              "  <thead>\n",
              "    <tr style=\"text-align: right;\">\n",
              "      <th></th>\n",
              "      <th>creation_date</th>\n",
              "      <th>data_size</th>\n",
              "      <th>id</th>\n",
              "      <th>name</th>\n",
              "      <th>row_count</th>\n",
              "      <th>state</th>\n",
              "    </tr>\n",
              "  </thead>\n",
              "  <tbody>\n",
              "    <tr>\n",
              "      <th>0</th>\n",
              "      <td>2020-01-01T09:26:06</td>\n",
              "      <td>0.041515</td>\n",
              "      <td>4527</td>\n",
              "      <td>openml_car_test.csv</td>\n",
              "      <td>1729.0</td>\n",
              "      <td>AVAILABLE</td>\n",
              "    </tr>\n",
              "    <tr>\n",
              "      <th>1</th>\n",
              "      <td>2019-12-31T09:25:44</td>\n",
              "      <td>0.044983</td>\n",
              "      <td>4523</td>\n",
              "      <td>openml_car.csv</td>\n",
              "      <td>1729.0</td>\n",
              "      <td>AVAILABLE</td>\n",
              "    </tr>\n",
              "    <tr>\n",
              "      <th>2</th>\n",
              "      <td>2019-12-16T12:46:41</td>\n",
              "      <td>0.230258</td>\n",
              "      <td>4469</td>\n",
              "      <td>ABB_TimeSeries_Forecasting_train_subsampled_h.csv</td>\n",
              "      <td>6721.0</td>\n",
              "      <td>AVAILABLE</td>\n",
              "    </tr>\n",
              "    <tr>\n",
              "      <th>3</th>\n",
              "      <td>2019-12-13T06:09:11</td>\n",
              "      <td>6.761950</td>\n",
              "      <td>4458</td>\n",
              "      <td>Firefly_Maintpartner_Test_12DEC2019.csv</td>\n",
              "      <td>41410.0</td>\n",
              "      <td>AVAILABLE</td>\n",
              "    </tr>\n",
              "    <tr>\n",
              "      <th>4</th>\n",
              "      <td>2019-12-10T07:47:17</td>\n",
              "      <td>0.065379</td>\n",
              "      <td>4440</td>\n",
              "      <td>Data4TS4Firefly.csv</td>\n",
              "      <td>1605.0</td>\n",
              "      <td>AVAILABLE</td>\n",
              "    </tr>\n",
              "    <tr>\n",
              "      <th>5</th>\n",
              "      <td>2019-12-10T07:46:16</td>\n",
              "      <td>0.056405</td>\n",
              "      <td>4439</td>\n",
              "      <td>car_sdk_demo_test.csv</td>\n",
              "      <td>1729.0</td>\n",
              "      <td>AVAILABLE</td>\n",
              "    </tr>\n",
              "    <tr>\n",
              "      <th>6</th>\n",
              "      <td>2019-12-03T12:35:27</td>\n",
              "      <td>0.189938</td>\n",
              "      <td>4419</td>\n",
              "      <td>ABB_TimeSeries_Forecastingsubsampled.csv</td>\n",
              "      <td>6721.0</td>\n",
              "      <td>AVAILABLE</td>\n",
              "    </tr>\n",
              "    <tr>\n",
              "      <th>7</th>\n",
              "      <td>2019-12-02T12:47:36</td>\n",
              "      <td>0.029481</td>\n",
              "      <td>4417</td>\n",
              "      <td>sinus.csv</td>\n",
              "      <td>1001.0</td>\n",
              "      <td>AVAILABLE</td>\n",
              "    </tr>\n",
              "    <tr>\n",
              "      <th>8</th>\n",
              "      <td>2019-12-01T07:20:09</td>\n",
              "      <td>0.215248</td>\n",
              "      <td>4410</td>\n",
              "      <td>ABB_TimeSeries_Forecasting.csv</td>\n",
              "      <td>9673.0</td>\n",
              "      <td>AVAILABLE</td>\n",
              "    </tr>\n",
              "    <tr>\n",
              "      <th>9</th>\n",
              "      <td>2019-11-25T07:06:33</td>\n",
              "      <td>0.064102</td>\n",
              "      <td>4389</td>\n",
              "      <td>Populus_Firefly_Data_labeled.csv</td>\n",
              "      <td>250.0</td>\n",
              "      <td>AVAILABLE</td>\n",
              "    </tr>\n",
              "  </tbody>\n",
              "</table>\n",
              "</div>"
            ],
            "text/plain": [
              "         creation_date  data_size  ...  row_count      state\n",
              "0  2020-01-01T09:26:06   0.041515  ...     1729.0  AVAILABLE\n",
              "1  2019-12-31T09:25:44   0.044983  ...     1729.0  AVAILABLE\n",
              "2  2019-12-16T12:46:41   0.230258  ...     6721.0  AVAILABLE\n",
              "3  2019-12-13T06:09:11   6.761950  ...    41410.0  AVAILABLE\n",
              "4  2019-12-10T07:47:17   0.065379  ...     1605.0  AVAILABLE\n",
              "5  2019-12-10T07:46:16   0.056405  ...     1729.0  AVAILABLE\n",
              "6  2019-12-03T12:35:27   0.189938  ...     6721.0  AVAILABLE\n",
              "7  2019-12-02T12:47:36   0.029481  ...     1001.0  AVAILABLE\n",
              "8  2019-12-01T07:20:09   0.215248  ...     9673.0  AVAILABLE\n",
              "9  2019-11-25T07:06:33   0.064102  ...      250.0  AVAILABLE\n",
              "\n",
              "[10 rows x 6 columns]"
            ]
          },
          "metadata": {
            "tags": []
          },
          "execution_count": 11
        }
      ]
    },
    {
      "cell_type": "code",
      "metadata": {
        "id": "apsDSxUCMJ7e",
        "colab_type": "code",
        "cellView": "both",
        "outputId": "75b9df49-ba8a-4442-cf1b-a3799399b8d8",
        "colab": {
          "base_uri": "https://localhost:8080/",
          "height": 68
        }
      },
      "source": [
        "#@title # Preparing a Dataset\n",
        "#@markdown # In this step we will define the Target and the task-type:\n",
        "\n",
        "data_set_name = data_name\n",
        "\n",
        "\n",
        "target = 'class' #@param {type:'string'}\n",
        "\n",
        "#@markdown # Select Machine learning task-type:\n",
        "\n",
        "#@markdown * Regression\n",
        "#@markdown * Classification\n",
        "#@markdown * Anomaly Detection\n",
        "#@markdown * Time-series Regression/Classification\n",
        "\n",
        "Task_Type_select = 'firefly.enums.ProblemType.CLASSIFICATION' #@param['firefly.enums.ProblemType.REGRESSION', 'firefly.enums.ProblemType.CLASSIFICATION', 'firefly.enums.ProblemType.ANOMALY_DETECTION']\n",
        "Task_Type = eval(Task_Type_select)\n",
        "print ('Your selected Target (y_value) is:', target)\n",
        "print ('Task Type is:', Task_Type.value)\n",
        "\n",
        "#@markdown # Use firefly.firefly.Datasource.prepare_data()\n",
        "\n",
        "try:\n",
        "    dataset_id = firefly.Datasource.prepare_data( \n",
        "                    datasource_id=source_id, \n",
        "                    dataset_name=data_set_name,\n",
        "                    target=target, \n",
        "                    # header=True,\n",
        "                    problem_type=Task_Type,\n",
        "                    sample_id=['car_id'],\n",
        "                    retype_columns={'car_id': firefly.enums.FeatureType.CATEGORICAL},\n",
        "                    wait=True, skip_if_exists=True)['id']\n",
        "    print(\"Dataset {} id is {}\".format( data_set_name, dataset_id))\n",
        "except Exception as e:\n",
        "    print(e)\n",
        "    \n"
      ],
      "execution_count": 12,
      "outputs": [
        {
          "output_type": "stream",
          "text": [
            "Your selected Target (y_value) is: class\n",
            "Task Type is: classification\n",
            "Dataset car_sdk_demo id is 5389\n"
          ],
          "name": "stdout"
        }
      ]
    },
    {
      "cell_type": "markdown",
      "metadata": {
        "id": "WAQ6VeDFMJ7t",
        "colab_type": "text"
      },
      "source": [
        ""
      ]
    },
    {
      "cell_type": "code",
      "metadata": {
        "id": "aqVoF_nAMJ7v",
        "colab_type": "code",
        "outputId": "c6eea489-eaa8-48ad-ec6b-dc392008ba73",
        "colab": {
          "base_uri": "https://localhost:8080/",
          "height": 359
        }
      },
      "source": [
        "#@title # List the datasets \n",
        "#@markdown * use firefly.Dataset.list()\n",
        "\n",
        "list_datasets = firefly.Dataset.list()\n",
        "datasets = pd.DataFrame(list_datasets['hits'])\n",
        "datasets.set_index('creation_date')\n",
        "datasets[[ 'creation_date',  'id', 'name',  'problem_type', 'row_count', 'state']].head(10)\n"
      ],
      "execution_count": 13,
      "outputs": [
        {
          "output_type": "execute_result",
          "data": {
            "text/html": [
              "<div>\n",
              "<style scoped>\n",
              "    .dataframe tbody tr th:only-of-type {\n",
              "        vertical-align: middle;\n",
              "    }\n",
              "\n",
              "    .dataframe tbody tr th {\n",
              "        vertical-align: top;\n",
              "    }\n",
              "\n",
              "    .dataframe thead th {\n",
              "        text-align: right;\n",
              "    }\n",
              "</style>\n",
              "<table border=\"1\" class=\"dataframe\">\n",
              "  <thead>\n",
              "    <tr style=\"text-align: right;\">\n",
              "      <th></th>\n",
              "      <th>creation_date</th>\n",
              "      <th>id</th>\n",
              "      <th>name</th>\n",
              "      <th>problem_type</th>\n",
              "      <th>row_count</th>\n",
              "      <th>state</th>\n",
              "    </tr>\n",
              "  </thead>\n",
              "  <tbody>\n",
              "    <tr>\n",
              "      <th>0</th>\n",
              "      <td>2019-12-31T09:26:24</td>\n",
              "      <td>5655</td>\n",
              "      <td>openml_car</td>\n",
              "      <td>classification</td>\n",
              "      <td>1728.0</td>\n",
              "      <td>AVAILABLE</td>\n",
              "    </tr>\n",
              "    <tr>\n",
              "      <th>1</th>\n",
              "      <td>2019-12-17T07:30:07</td>\n",
              "      <td>5579</td>\n",
              "      <td>Maintpartner_Test_12DEC2019 TRGT (no time)</td>\n",
              "      <td>regression</td>\n",
              "      <td>41409.0</td>\n",
              "      <td>AVAILABLE</td>\n",
              "    </tr>\n",
              "    <tr>\n",
              "      <th>2</th>\n",
              "      <td>2019-12-16T14:59:26</td>\n",
              "      <td>5577</td>\n",
              "      <td>Firefly_Maintpartner_Test_12DEC2019 TRGT (v1)</td>\n",
              "      <td>regression</td>\n",
              "      <td>41409.0</td>\n",
              "      <td>AVAILABLE</td>\n",
              "    </tr>\n",
              "    <tr>\n",
              "      <th>3</th>\n",
              "      <td>2019-12-16T12:52:10</td>\n",
              "      <td>5576</td>\n",
              "      <td>ABB_TimeSeries_Forecasting_h</td>\n",
              "      <td>regression_timeseries</td>\n",
              "      <td>6720.0</td>\n",
              "      <td>AVAILABLE</td>\n",
              "    </tr>\n",
              "    <tr>\n",
              "      <th>4</th>\n",
              "      <td>2019-12-13T06:10:55</td>\n",
              "      <td>5557</td>\n",
              "      <td>Firefly_Maintpartner_Test_12DEC2019 WGHT</td>\n",
              "      <td>regression</td>\n",
              "      <td>41409.0</td>\n",
              "      <td>AVAILABLE</td>\n",
              "    </tr>\n",
              "    <tr>\n",
              "      <th>5</th>\n",
              "      <td>2019-12-13T06:10:12</td>\n",
              "      <td>5556</td>\n",
              "      <td>Firefly_Maintpartner_Test_12DEC2019 TRGT</td>\n",
              "      <td>regression</td>\n",
              "      <td>41409.0</td>\n",
              "      <td>AVAILABLE</td>\n",
              "    </tr>\n",
              "    <tr>\n",
              "      <th>6</th>\n",
              "      <td>2019-12-10T07:48:43</td>\n",
              "      <td>5537</td>\n",
              "      <td>Data4TS4Firefly</td>\n",
              "      <td>regression_timeseries</td>\n",
              "      <td>1604.0</td>\n",
              "      <td>AVAILABLE</td>\n",
              "    </tr>\n",
              "    <tr>\n",
              "      <th>7</th>\n",
              "      <td>2019-12-04T10:58:57</td>\n",
              "      <td>5514</td>\n",
              "      <td>rossman-5-stores</td>\n",
              "      <td>regression_timeseries</td>\n",
              "      <td>4710.0</td>\n",
              "      <td>AVAILABLE</td>\n",
              "    </tr>\n",
              "    <tr>\n",
              "      <th>8</th>\n",
              "      <td>2019-12-03T12:42:10</td>\n",
              "      <td>5512</td>\n",
              "      <td>ABB_TimeSeries_Forecasting</td>\n",
              "      <td>regression_timeseries</td>\n",
              "      <td>6720.0</td>\n",
              "      <td>AVAILABLE</td>\n",
              "    </tr>\n",
              "    <tr>\n",
              "      <th>9</th>\n",
              "      <td>2019-12-02T12:48:35</td>\n",
              "      <td>5506</td>\n",
              "      <td>sinus</td>\n",
              "      <td>regression_timeseries</td>\n",
              "      <td>1000.0</td>\n",
              "      <td>AVAILABLE</td>\n",
              "    </tr>\n",
              "  </tbody>\n",
              "</table>\n",
              "</div>"
            ],
            "text/plain": [
              "         creation_date    id  ... row_count      state\n",
              "0  2019-12-31T09:26:24  5655  ...    1728.0  AVAILABLE\n",
              "1  2019-12-17T07:30:07  5579  ...   41409.0  AVAILABLE\n",
              "2  2019-12-16T14:59:26  5577  ...   41409.0  AVAILABLE\n",
              "3  2019-12-16T12:52:10  5576  ...    6720.0  AVAILABLE\n",
              "4  2019-12-13T06:10:55  5557  ...   41409.0  AVAILABLE\n",
              "5  2019-12-13T06:10:12  5556  ...   41409.0  AVAILABLE\n",
              "6  2019-12-10T07:48:43  5537  ...    1604.0  AVAILABLE\n",
              "7  2019-12-04T10:58:57  5514  ...    4710.0  AVAILABLE\n",
              "8  2019-12-03T12:42:10  5512  ...    6720.0  AVAILABLE\n",
              "9  2019-12-02T12:48:35  5506  ...    1000.0  AVAILABLE\n",
              "\n",
              "[10 rows x 6 columns]"
            ]
          },
          "metadata": {
            "tags": []
          },
          "execution_count": 13
        }
      ]
    },
    {
      "cell_type": "code",
      "metadata": {
        "id": "mccbg47hMJ71",
        "colab_type": "code",
        "outputId": "94972681-7968-4c67-a3df-e9babd1817d2",
        "colab": {
          "base_uri": "https://localhost:8080/",
          "height": 122
        }
      },
      "source": [
        "#@title # Get list of available pipelines/estimators:\n",
        "#@markdown * estimator list use firefly.Dataset.get_available_estimators()\n",
        "#@markdown * estimator list use firefly.Dataset.get_available_pipeline()\n",
        "\n",
        "from fireflyai.enums import InterpretabilityLevel as interpt\n",
        "precise_estimators=firefly.Dataset.get_available_estimators(inter_level=interpt.PRECISE,id=dataset_id)\n",
        "precise_pipeline=firefly.Dataset.get_available_pipeline(inter_level=interpt.PRECISE,id=dataset_id)\n",
        "simple_estimators=firefly.Dataset.get_available_estimators(inter_level=interpt.EXPLAINABLE, id=dataset_id)\n",
        "simple_pipeline=firefly.Dataset.get_available_pipeline(inter_level=interpt.EXPLAINABLE, id=dataset_id)\n",
        "\n",
        "print(\"List of all estimators:\\n {}\".format([x.value for x in precise_estimators]))\n",
        "print(\"\\nA simple pipeline:\\n {}\".format([x.value for x in simple_pipeline]))\n",
        "\n",
        "\n"
      ],
      "execution_count": 19,
      "outputs": [
        {
          "output_type": "stream",
          "text": [
            "List of all estimators:\n",
            " ['random_forest', 'xgradient_boosting', 'adaboost', 'extra_trees', 'k_nearest_neighbors', 'passive_aggressive', 'proj_logit', 'bernoulli_nb', 'nn_keras_sequential', 'anomaly_gmm', 'anomaly_isof', 'anomaly_hist', 'decision_tree', 'gaussian_nb', 'gradient_boosting', 'sgd', 'qda', 'multinomial_nb', 'logreg', 'libsvm_svc', 'lda', 'liblinear_svc', 'ridge_classification', 'light_gradient_boosting', 'cat_boost', 'complement_nb']\n",
            "\n",
            "A simple pipeline:\n",
            " ['data_cleaning_pre_imputation', 'text_preprocessing', 'imputation', 'data_cleaning_post_imputation', 'auto_sample_generation', 'balancing', 'feature_selection', 'estimator']\n"
          ],
          "name": "stdout"
        }
      ]
    },
    {
      "cell_type": "markdown",
      "metadata": {
        "id": "F2XOMNAXMJ77",
        "colab_type": "text"
      },
      "source": [
        ""
      ]
    },
    {
      "cell_type": "code",
      "metadata": {
        "id": "tCmybBZZMJ78",
        "colab_type": "code",
        "outputId": "5e24faa1-977b-4d41-87b3-323e7c53c0ca",
        "colab": {
          "base_uri": "https://localhost:8080/",
          "height": 340
        }
      },
      "source": [
        "#@title # Training a model\n",
        "#@markdown * Choose metric\n",
        "\n",
        "Target_metric_selection = 'firefly.enums.TargetMetric.RECALL_MACRO' #@param['firefly.enums.TargetMetric.RECALL_MACRO', 'firefly.enums.TargetMetric.F1', 'firefly.enums.TargetMetric.F2', 'Normalized Gini', 'AUC', 'Log loss', 'Accuracy', 'MAE', 'Normalized MSE', 'Normalized RMSE', 'Normalized MAE', 'Median AE', 'R2', 'RMSPE', 'RMSLE', 'MAPE']\n",
        "Target_metric = eval(Target_metric_selection)\n",
        "\n",
        "#@markdown * Allocate training time\n",
        "Training_time_in_minutes = 6 #@param {type:'number'}\n",
        "\n",
        "\n",
        "#@markdown * Data partitioning \n",
        "#@markdown * Hold-out // Cross-Validation\n",
        "\n",
        "\n",
        "CV_folds = 3 #@param {type:'number'}\n",
        "interpretability_level_select = 'Explainable' #@param['Explainable', 'Precise']\n",
        "\n",
        "if interpretability_level_select=='Precise':\n",
        "  pipeline=precise_pipeline\n",
        "  estimators=precise_estimators\n",
        "  ensemble_size=5\n",
        "  interpretability_level = firefly.enums.InterpretabilityLevel.PRECISE\n",
        "else:\n",
        "  pipeline=simple_pipeline\n",
        "  estimators=simple_estimators\n",
        "  ensemble_size=5\n",
        "  interpretability_level = firefly.enums.InterpretabilityLevel.EXPLAINABLE\n",
        "\n",
        "\n",
        "print ('The training time is:', Training_time_in_minutes)\n",
        "# print ('The selected Target Metric is:', Target_metric.value)\n",
        "\n",
        "try:\n",
        "    task= firefly.Dataset.train( \n",
        "        task_name=data_name + \" \" + interpretability_level.name,\n",
        "        estimators=estimators,\n",
        "        pipeline=pipeline,\n",
        "        target_metric= Target_metric,\n",
        "        dataset_id=dataset_id,\n",
        "        # splitting_strategy=firefly.enums.SplittingStrategy.STRATIFIED,\n",
        "        notes='demo created from SDK',\n",
        "        ensemble_size=ensemble_size,\n",
        "        n_folds = CV_folds,\n",
        "        max_models_num=None,\n",
        "        interpretability_level=interpretability_level,\n",
        "        timeout=Training_time_in_minutes*60, wait=True, skip_if_exists=True\n",
        "    )\n",
        "    task_id=task['id']\n",
        "    print(\"Task info:\")\n",
        "    pprint.pprint(task.to_dict())\n",
        "except Exception as e:\n",
        "    print(e)"
      ],
      "execution_count": 20,
      "outputs": [
        {
          "output_type": "stream",
          "text": [
            "The training time is: 6\n",
            "Task info:\n",
            "{'creation_date': '2020-01-01T14:00:36',\n",
            " 'dataset_id': 5389,\n",
            " 'dataset_name': 'car_sdk_demo',\n",
            " 'ensemble_id': 37382,\n",
            " 'id': 4305,\n",
            " 'job_state': 'COMPLETED',\n",
            " 'last_update': '2020-01-01T14:06:00',\n",
            " 'name': 'car_sdk_demo EXPLAINABLE',\n",
            " 'notes': 'demo created from SDK',\n",
            " 'problem_type': 'classification',\n",
            " 'run_time': 312,\n",
            " 'source_ensemble_id': None,\n",
            " 'splitting_strategy': 'stratified',\n",
            " 'state': 'COMPLETED',\n",
            " 'target_metric': 'recall_macro',\n",
            " 'user_id': 76,\n",
            " 'version': '0.41.3'}\n"
          ],
          "name": "stdout"
        }
      ]
    },
    {
      "cell_type": "code",
      "metadata": {
        "colab_type": "code",
        "id": "SegXWFl8hdnk",
        "outputId": "f09ed634-464b-4e20-9228-5f33de9da39c",
        "colab": {
          "base_uri": "https://localhost:8080/",
          "height": 359
        }
      },
      "source": [
        "#@title # List tasks\n",
        "#@markdown * Use firefly.Task.list()\n",
        "# list tasks\n",
        "\n",
        "list_tasks = firefly.Task.list()\n",
        "tasks = pd.DataFrame(list_tasks['hits'])\n",
        "\n",
        "tasks.columns\n",
        "tasks[['creation_date', 'dataset_id',  'name', 'notes', 'problem_type',\n",
        "        'state', 'target_metric']].head(10)\n"
      ],
      "execution_count": 0,
      "outputs": [
        {
          "output_type": "execute_result",
          "data": {
            "text/html": [
              "<div>\n",
              "<style scoped>\n",
              "    .dataframe tbody tr th:only-of-type {\n",
              "        vertical-align: middle;\n",
              "    }\n",
              "\n",
              "    .dataframe tbody tr th {\n",
              "        vertical-align: top;\n",
              "    }\n",
              "\n",
              "    .dataframe thead th {\n",
              "        text-align: right;\n",
              "    }\n",
              "</style>\n",
              "<table border=\"1\" class=\"dataframe\">\n",
              "  <thead>\n",
              "    <tr style=\"text-align: right;\">\n",
              "      <th></th>\n",
              "      <th>creation_date</th>\n",
              "      <th>dataset_id</th>\n",
              "      <th>name</th>\n",
              "      <th>notes</th>\n",
              "      <th>problem_type</th>\n",
              "      <th>state</th>\n",
              "      <th>target_metric</th>\n",
              "    </tr>\n",
              "  </thead>\n",
              "  <tbody>\n",
              "    <tr>\n",
              "      <th>0</th>\n",
              "      <td>2020-01-01T14:00:36</td>\n",
              "      <td>5389</td>\n",
              "      <td>car_sdk_demo EXPLAINABLE</td>\n",
              "      <td>demo created from SDK</td>\n",
              "      <td>classification</td>\n",
              "      <td>COMPLETED</td>\n",
              "      <td>recall_macro</td>\n",
              "    </tr>\n",
              "    <tr>\n",
              "      <th>1</th>\n",
              "      <td>2019-12-31T09:40:16</td>\n",
              "      <td>5655</td>\n",
              "      <td>openml_car</td>\n",
              "      <td>None</td>\n",
              "      <td>classification</td>\n",
              "      <td>COMPLETED</td>\n",
              "      <td>recall_macro</td>\n",
              "    </tr>\n",
              "    <tr>\n",
              "      <th>2</th>\n",
              "      <td>2019-12-29T13:24:13</td>\n",
              "      <td>5389</td>\n",
              "      <td>car_sdk_demo PRECISE</td>\n",
              "      <td>demo created from SDK</td>\n",
              "      <td>classification</td>\n",
              "      <td>COMPLETED</td>\n",
              "      <td>recall_macro</td>\n",
              "    </tr>\n",
              "    <tr>\n",
              "      <th>3</th>\n",
              "      <td>2019-12-17T07:31:28</td>\n",
              "      <td>5579</td>\n",
              "      <td>Maintpartner_Test_12DEC2019 TRGT (no time)</td>\n",
              "      <td></td>\n",
              "      <td>regression</td>\n",
              "      <td>COMPLETED</td>\n",
              "      <td>r2</td>\n",
              "    </tr>\n",
              "    <tr>\n",
              "      <th>4</th>\n",
              "      <td>2019-12-16T15:00:36</td>\n",
              "      <td>5577</td>\n",
              "      <td>Firefly_Maintpartner_Test_12DEC2019 TRGT (v1)</td>\n",
              "      <td></td>\n",
              "      <td>regression</td>\n",
              "      <td>COMPLETED</td>\n",
              "      <td>r2</td>\n",
              "    </tr>\n",
              "    <tr>\n",
              "      <th>5</th>\n",
              "      <td>2019-12-16T12:54:28</td>\n",
              "      <td>5576</td>\n",
              "      <td>ABB_TimeSeries_Forecasting only linear</td>\n",
              "      <td>only linear estimators 2h</td>\n",
              "      <td>regression_timeseries</td>\n",
              "      <td>COMPLETED</td>\n",
              "      <td>mape</td>\n",
              "    </tr>\n",
              "    <tr>\n",
              "      <th>6</th>\n",
              "      <td>2019-12-13T06:27:37</td>\n",
              "      <td>5556</td>\n",
              "      <td>Firefly_Maintpartner_Test_12DEC2019 TRGT Preci...</td>\n",
              "      <td>precision 180</td>\n",
              "      <td>regression</td>\n",
              "      <td>COMPLETED</td>\n",
              "      <td>r2</td>\n",
              "    </tr>\n",
              "    <tr>\n",
              "      <th>7</th>\n",
              "      <td>2019-12-13T06:11:42</td>\n",
              "      <td>5556</td>\n",
              "      <td>Firefly_Maintpartner_Test_12DEC2019 TRGTExplai...</td>\n",
              "      <td>LR</td>\n",
              "      <td>regression</td>\n",
              "      <td>COMPLETED</td>\n",
              "      <td>r2</td>\n",
              "    </tr>\n",
              "    <tr>\n",
              "      <th>8</th>\n",
              "      <td>2019-12-04T11:00:27</td>\n",
              "      <td>5514</td>\n",
              "      <td>rossman-5-stores v2</td>\n",
              "      <td></td>\n",
              "      <td>regression_timeseries</td>\n",
              "      <td>COMPLETED</td>\n",
              "      <td>mae</td>\n",
              "    </tr>\n",
              "    <tr>\n",
              "      <th>9</th>\n",
              "      <td>2019-12-03T13:35:32</td>\n",
              "      <td>5512</td>\n",
              "      <td>ABB_TimeSeries_Forecasting</td>\n",
              "      <td>estimators</td>\n",
              "      <td>regression_timeseries</td>\n",
              "      <td>COMPLETED</td>\n",
              "      <td>mae</td>\n",
              "    </tr>\n",
              "  </tbody>\n",
              "</table>\n",
              "</div>"
            ],
            "text/plain": [
              "         creation_date  dataset_id  ...      state target_metric\n",
              "0  2020-01-01T14:00:36        5389  ...  COMPLETED  recall_macro\n",
              "1  2019-12-31T09:40:16        5655  ...  COMPLETED  recall_macro\n",
              "2  2019-12-29T13:24:13        5389  ...  COMPLETED  recall_macro\n",
              "3  2019-12-17T07:31:28        5579  ...  COMPLETED            r2\n",
              "4  2019-12-16T15:00:36        5577  ...  COMPLETED            r2\n",
              "5  2019-12-16T12:54:28        5576  ...  COMPLETED          mape\n",
              "6  2019-12-13T06:27:37        5556  ...  COMPLETED            r2\n",
              "7  2019-12-13T06:11:42        5556  ...  COMPLETED            r2\n",
              "8  2019-12-04T11:00:27        5514  ...  COMPLETED           mae\n",
              "9  2019-12-03T13:35:32        5512  ...  COMPLETED           mae\n",
              "\n",
              "[10 rows x 7 columns]"
            ]
          },
          "metadata": {
            "tags": []
          },
          "execution_count": 87
        }
      ]
    },
    {
      "cell_type": "code",
      "metadata": {
        "colab_type": "code",
        "id": "J01BO4d7hdnf",
        "outputId": "6bf9d0a6-73b2-4bea-e2ad-bcf9db91cfb8",
        "colab": {
          "base_uri": "https://localhost:8080/",
          "height": 51
        }
      },
      "source": [
        "#@title List ensembles\n",
        "#@markdown * Use firefly.Ensemble.list()\n",
        "print(\"task_id for \", data_name, \" is \", task_id)\n",
        "\n",
        "#get list of ensembles\n",
        "ensembles=firefly.Ensemble.list(filter_={'task_id':[task_id],'stage': ['TASK', 'REFIT'] })['hits']\n",
        "\n",
        "n_ensembles=len(ensembles)\n",
        "if (n_ensembles>=1):\n",
        "    for i in range(n_ensembles):\n",
        "        ensemble_id = ensembles[i]['id']\n",
        "        print(\"Ensemble id {} created on {}\".format(ensemble_id, ensembles[i]['creation_date']))\n",
        "\n"
      ],
      "execution_count": 21,
      "outputs": [
        {
          "output_type": "stream",
          "text": [
            "task_id for  car_sdk_demo  is  4305\n",
            "Ensemble id 37382 created on 2020-01-01T14:03:56\n"
          ],
          "name": "stdout"
        }
      ]
    },
    {
      "cell_type": "code",
      "metadata": {
        "id": "vjIw9F6_MJ8Q",
        "colab_type": "code",
        "outputId": "58d52e94-e680-42c6-b75b-4e6a0c3eddeb",
        "colab": {
          "base_uri": "https://localhost:8080/",
          "height": 401
        }
      },
      "source": [
        "#@title Model sensitivity report { run: \"auto\" }\n",
        "\n",
        "df=pd.DataFrame()\n",
        "n=4\n",
        "alg='Permutation' #@param['Permutation', 'NA value']\n",
        "\n",
        "sens=None\n",
        "\n",
        "while (True):\n",
        "    try:\n",
        "        sens = firefly.Ensemble.get_model_sensitivity_report(id=ensemble_id)\n",
        "        if sens is not None:\n",
        "            break\n",
        "        time.sleep(5)\n",
        "    except Exception as e:\n",
        "        print(e)\n",
        "        break\n",
        "    \n",
        "sensp=sens[alg]\n",
        "\n",
        "df['features']=sensp.keys()\n",
        "df['importance']=sensp.values()\n",
        "\n",
        "df=df.sort_values(by='importance', ascending=False)\n",
        "\n",
        "print(\"Top {0} important features by {1}:\".format(n, alg))\n",
        "\n",
        "pprint.pprint(df[:n].set_index('features'))\n",
        "\n",
        "\n",
        "y_pos = np.arange(len(df.features))\n",
        "\n",
        "plt.bar(y_pos, df['importance'], align='center', alpha=0.5)\n",
        "plt.xticks(y_pos, df.features)\n",
        "plt.ylabel('Relative importance')\n",
        "plt.title('Sensitivity by {0}'.format(alg))\n",
        "\n",
        "plt.show()"
      ],
      "execution_count": 25,
      "outputs": [
        {
          "output_type": "stream",
          "text": [
            "Top 4 important features by Permutation:\n",
            "          importance\n",
            "features            \n",
            "buying     22.131394\n",
            "safety     21.531377\n",
            "maint      18.859585\n",
            "lug_boot   14.737247\n"
          ],
          "name": "stdout"
        },
        {
          "output_type": "display_data",
          "data": {
            "image/png": "[encoded data removed]",
            "text/plain": [
              "<Figure size 432x288 with 1 Axes>"
            ]
          },
          "metadata": {
            "tags": []
          }
        }
      ]
    },
    {
      "cell_type": "code",
      "metadata": {
        "scrolled": true,
        "id": "jT6scDX6MJ8l",
        "colab_type": "code",
        "colab": {}
      },
      "source": [
        "#@title Running predictions\n",
        "\n",
        "#@markdown * upload predict data\n",
        "df_pred = pd.read_csv(PATH+data_name+\"_test.csv\")\n",
        "data_id=firefly.Datasource.create_from_dataframe(df=df_pred, data_source_name=data_name+\"_test.csv\",wait=True, skip_if_exists=True)['id']\n",
        "\n",
        "#@markdown * run prediction using firefly.Prediction.create\n",
        "predict_id=firefly.Prediction.create(ensemble_id=ensemble_id, data_id=data_id, wait=True)['id']\n",
        "   "
      ],
      "execution_count": 0,
      "outputs": []
    },
    {
      "cell_type": "code",
      "metadata": {
        "id": "Wzss_KdAMJ8v",
        "colab_type": "code",
        "outputId": "fb2c5879-517f-4fd5-e880-eb6dba6017cc",
        "colab": {
          "base_uri": "https://localhost:8080/",
          "height": 204
        }
      },
      "source": [
        "#@title Download a prediction\n",
        "\n",
        "predict_results=firefly.Prediction.get(predict_id)\n",
        "\n",
        "download_url = predict_results['result_path']\n",
        "\n",
        "if download_url is not None:\n",
        "    df_predict = pd.read_csv(download_url) \n",
        "    pprint.pprint(df_predict.head(10))\n"
      ],
      "execution_count": 26,
      "outputs": [
        {
          "output_type": "stream",
          "text": [
            "   row_identifier y_pred  acc_proba  good_proba  unacc_proba  vgood_proba\n",
            "0            1000  unacc        0.0    0.174939     0.784658     0.040403\n",
            "1            1001  unacc        0.0    0.174939     0.784658     0.040403\n",
            "2            1002  unacc        0.0    0.174939     0.784658     0.040403\n",
            "3            1003  unacc        0.0    0.174939     0.784658     0.040403\n",
            "4            1004  unacc        0.0    0.174939     0.784658     0.040403\n",
            "5            1005  unacc        0.0    0.174939     0.784658     0.040403\n",
            "6            1006  unacc        0.0    0.174939     0.784658     0.040403\n",
            "7            1007  unacc        0.0    0.174939     0.784658     0.040403\n",
            "8            1008  unacc        0.0    0.174939     0.784658     0.040403\n",
            "9            1009  unacc        0.0    0.174939     0.784658     0.040403\n"
          ],
          "name": "stdout"
        }
      ]
    },
    {
      "cell_type": "code",
      "metadata": {
        "id": "WkmhFVU7MJ8z",
        "colab_type": "code",
        "outputId": "9dcb6bee-9746-412e-b5dd-6a4097dbcf34",
        "colab": {
          "base_uri": "https://localhost:8080/",
          "height": 34
        }
      },
      "source": [
        "least_important_features=list(df.sort_values(by='importance').features[-3:])\n",
        "least_important_features"
      ],
      "execution_count": 0,
      "outputs": [
        {
          "output_type": "execute_result",
          "data": {
            "text/plain": [
              "['persons', 'safety', 'buying']"
            ]
          },
          "metadata": {
            "tags": []
          },
          "execution_count": 120
        }
      ]
    },
    {
      "cell_type": "code",
      "metadata": {
        "id": "WxrITT6tMJ81",
        "colab_type": "code",
        "colab": {}
      },
      "source": [
        "# create a dataset without the 3 least important features\n",
        "\n",
        "try:\n",
        "    dataset_id = firefly.Datasource.prepare_data(\n",
        "            datasource_id=source_id, \n",
        "            dataset_name=data_name+\"_imp\",\n",
        "            target=target, \n",
        "            header=True, \n",
        "            not_used=least_important_features,\n",
        "            wait=False, skip_if_exists=True,\n",
        "            problem_type=Task_Type\n",
        "#             sample_id=['buying']\n",
        "    )['id']\n",
        "    print(dataset_id)\n",
        "\n",
        "except Exception as e:\n",
        "    print(e)\n",
        "    "
      ],
      "execution_count": 0,
      "outputs": []
    },
    {
      "cell_type": "code",
      "metadata": {
        "id": "2zXJbu2kMJ84",
        "colab_type": "code",
        "colab": {}
      },
      "source": [
        "#confsion example\n",
        "conf=firefly.Ensemble.get_ensemble_confusion_matrix(id=ensemble_id)['result']\n",
        "\n",
        "labels= conf[0]\n",
        "array = conf[1:]\n",
        "df_cm = pd.DataFrame(array, index = [i for i in labels],\n",
        "                  columns = labels)\n",
        "plt.figure(figsize = (5,5))\n",
        "sn.heatmap(df_cm, fmt='3',annot=True)"
      ],
      "execution_count": 0,
      "outputs": []
    },
    {
      "cell_type": "markdown",
      "metadata": {
        "id": "Qle49yqJMJ8_",
        "colab_type": "text"
      },
      "source": [
        "## delete task / dataset / datasource by name\n"
      ]
    },
    {
      "cell_type": "code",
      "metadata": {
        "id": "RnSU7YHTMJ9A",
        "colab_type": "code",
        "outputId": "2b241091-8de6-4305-d277-40f52910bc8e",
        "colab": {
          "base_uri": "https://localhost:8080/",
          "height": 34
        }
      },
      "source": [
        "# inventory\n",
        "datasources = firefly.Datasource.list(search_term=data_name)['hits']\n",
        "datasets = firefly.Dataset.list(search_term=data_name)['hits']\n",
        "tasks = firefly.Task.list(search_term=data_name)['hits']\n",
        "\n",
        "print(\"Found {} data sources, {} datasets, {} tasks with name {}\".format(len(datasources), len(datasets), len(tasks), data_name))"
      ],
      "execution_count": 0,
      "outputs": [
        {
          "output_type": "stream",
          "text": [
            "Found 2 data sources, 1 datasets, 4 tasks with name car_sdk_demo\n"
          ],
          "name": "stdout"
        }
      ]
    },
    {
      "cell_type": "code",
      "metadata": {
        "id": "fC_hSEiHOkXI",
        "colab_type": "code",
        "colab": {}
      },
      "source": [
        "sure=input(\"Input 'Y' for deleting demo files and tasks:\")\n",
        "\n",
        "if sure=='Y':\n",
        "\n",
        "  for d in datasources:\n",
        "    firefly.Datasource.delete(d['id'])\n",
        "\n",
        "  for d in datasets:\n",
        "    firefly.Dataset.delete(d['id'])\n",
        "\n",
        "  for d in tasks:\n",
        "    firefly.Task.delete(d['id'])"
      ],
      "execution_count": 0,
      "outputs": []
    },
    {
      "cell_type": "markdown",
      "metadata": {
        "id": "7q6OPakrvL2v",
        "colab_type": "text"
      },
      "source": [
        "[link text](https://)"
      ]
    },
    {
      "cell_type": "code",
      "metadata": {
        "id": "axIeuSEiuopX",
        "colab_type": "code",
        "colab": {}
      },
      "source": [
        ""
      ],
      "execution_count": 0,
      "outputs": []
    }
  ]
}